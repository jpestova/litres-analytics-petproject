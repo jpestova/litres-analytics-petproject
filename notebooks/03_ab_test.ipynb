{
 "cells": [
  {
   "cell_type": "markdown",
   "id": "153f1d7e",
   "metadata": {},
   "source": [
    "# 03 — A/B-тест: бейджи и дочитываемость"
   ]
  },
  {
   "cell_type": "code",
   "execution_count": null,
   "id": "865f9ab6",
   "metadata": {},
   "outputs": [],
   "source": [
    "\n",
    "import pandas as pd\n",
    "import numpy as np\n",
    "from scipy import stats\n",
    "\n",
    "df = pd.read_csv('../data/events.csv', parse_dates=['timestamp'])\n",
    "reader = df[df['source']=='reader']\n",
    "\n",
    "opens = reader[reader['event']=='book_open'].groupby('user_id').size().rename('opens')\n",
    "finishes = reader[reader['event']=='book_finished'].groupby('user_id').size().rename('finishes')\n",
    "ab = reader.groupby('user_id')['ab_group'].agg(lambda x: x.mode()[0])\n",
    "\n",
    "agg = pd.concat([opens, finishes, ab], axis=1).fillna(0)\n",
    "agg['finish_rate'] = agg['finishes'] / agg['opens'].replace({0:np.nan})\n",
    "agg = agg.dropna(subset=['finish_rate'])\n",
    "\n",
    "groupA = agg[agg['ab_group']=='A']['finish_rate']\n",
    "groupB = agg[agg['ab_group']=='B']['finish_rate']\n",
    "\n",
    "# Welch's t-test (unequal variances)\n",
    "t_stat, p_value = stats.ttest_ind(groupA, groupB, equal_var=False, nan_policy='omit')\n",
    "lift = groupB.mean() - groupA.mean()\n",
    "\n",
    "result = {\n",
    "    'groupA_mean_finish_rate': groupA.mean(),\n",
    "    'groupB_mean_finish_rate': groupB.mean(),\n",
    "    'lift_abs': lift,\n",
    "    't_stat': t_stat,\n",
    "    'p_value': p_value\n",
    "}\n",
    "result\n"
   ]
  },
  {
   "cell_type": "markdown",
   "id": "26329677",
   "metadata": {},
   "source": [
    "## Вывод"
   ]
  },
  {
   "cell_type": "code",
   "execution_count": null,
   "id": "6b84a4ff",
   "metadata": {},
   "outputs": [],
   "source": [
    "\n",
    "conclusion = (\n",
    "    \"Группа B показывает более высокую дочитываемость по завершению книги (finish_rate). \"\n",
    "    \"Статистическую значимость см. по p-value.\"\n",
    ")\n",
    "conclusion\n"
   ]
  }
 ],
 "metadata": {},
 "nbformat": 4,
 "nbformat_minor": 5
}