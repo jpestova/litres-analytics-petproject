{
 "cells": [
  {
   "cell_type": "markdown",
   "id": "374f880b",
   "metadata": {},
   "source": [
    "# 02 — Метрики: DAU/MAU, Retention, Воронка"
   ]
  },
  {
   "cell_type": "code",
   "execution_count": null,
   "id": "f08ea06e",
   "metadata": {},
   "outputs": [],
   "source": [
    "\n",
    "import pandas as pd\n",
    "import numpy as np\n",
    "import matplotlib.pyplot as plt\n",
    "\n",
    "df = pd.read_csv('../data/events.csv', parse_dates=['timestamp'])\n",
    "df['date'] = df['timestamp'].dt.date\n"
   ]
  },
  {
   "cell_type": "markdown",
   "id": "d2c96908",
   "metadata": {},
   "source": [
    "## DAU/MAU"
   ]
  },
  {
   "cell_type": "code",
   "execution_count": null,
   "id": "194e6ff4",
   "metadata": {},
   "outputs": [],
   "source": [
    "\n",
    "dau = df.groupby('date')['user_id'].nunique()\n",
    "mau = df.groupby(df['timestamp'].dt.to_period('M'))['user_id'].nunique()\n",
    "display(dau.head())\n",
    "display(mau)\n",
    "plt.figure()\n",
    "dau.plot(title='DAU'); plt.show()\n"
   ]
  },
  {
   "cell_type": "markdown",
   "id": "2778f011",
   "metadata": {},
   "source": [
    "## Retention: D1/D7 по install date (первый день появления пользователя)"
   ]
  },
  {
   "cell_type": "code",
   "execution_count": null,
   "id": "8c271153",
   "metadata": {},
   "outputs": [],
   "source": [
    "\n",
    "first_seen = df.groupby('user_id')['date'].min().rename('install_dt')\n",
    "activity = df.groupby(['user_id','date']).size().reset_index(name='events')\n",
    "merged = activity.merge(first_seen, on='user_id')\n",
    "activity['install_dt'] = merged['install_dt']\n",
    "\n",
    "def retention_on(day):\n",
    "    return (merged['date'] == merged['install_dt'] + pd.to_timedelta(day, unit='D')).groupby(merged['install_dt']).sum()\n",
    "\n",
    "d0 = (merged['date'] == merged['install_dt']).groupby(merged['install_dt']).sum()\n",
    "d1 = retention_on(1)\n",
    "d7 = retention_on(7)\n",
    "retention = pd.DataFrame({'day0': d0, 'day1': d1, 'day7': d7}).fillna(0)\n",
    "retention['d1_rate'] = retention['day1']/retention['day0']\n",
    "retention['d7_rate'] = retention['day7']/retention['day0']\n",
    "retention.head()\n"
   ]
  },
  {
   "cell_type": "markdown",
   "id": "7ed73535",
   "metadata": {},
   "source": [
    "## Воронка чтения (reader): book_open → page_scroll → book_finished"
   ]
  },
  {
   "cell_type": "code",
   "execution_count": null,
   "id": "22c7dccf",
   "metadata": {},
   "outputs": [],
   "source": [
    "\n",
    "reader = df[df['source'] == 'reader']\n",
    "f_open = reader[reader['event'] == 'book_open'].groupby('date')['user_id'].nunique()\n",
    "f_scroll = reader[reader['event'] == 'page_scroll'].groupby('date')['user_id'].nunique()\n",
    "f_finish = reader[reader['event'] == 'book_finished'].groupby('date')['user_id'].nunique()\n",
    "funnel = pd.concat([f_open.rename('openers'), f_scroll.rename('scrollers'), f_finish.rename('finishers')], axis=1).fillna(0)\n",
    "funnel['finish_rate'] = funnel['finishers']/funnel['openers'].replace({0:np.nan})\n",
    "funnel.head()\n",
    "plt.figure()\n",
    "funnel[['openers','scrollers','finishers']].plot(kind='line', title='Reading funnel over time'); plt.show()\n"
   ]
  }
 ],
 "metadata": {},
 "nbformat": 4,
 "nbformat_minor": 5
}