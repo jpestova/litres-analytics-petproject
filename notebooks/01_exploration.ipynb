{
 "cells": [
  {
   "cell_type": "markdown",
   "id": "5a70d6d8",
   "metadata": {},
   "source": [
    "# 01 — Exploration: загрузка и первичный анализ"
   ]
  },
  {
   "cell_type": "code",
   "execution_count": null,
   "id": "ccba29a3",
   "metadata": {},
   "outputs": [],
   "source": [
    "\n",
    "import pandas as pd\n",
    "\n",
    "df = pd.read_csv('../data/events.csv', parse_dates=['timestamp'])\n",
    "df.head()\n"
   ]
  },
  {
   "cell_type": "markdown",
   "id": "f3263189",
   "metadata": {},
   "source": [
    "## Базовая информация о данных"
   ]
  },
  {
   "cell_type": "code",
   "execution_count": null,
   "id": "6943df48",
   "metadata": {},
   "outputs": [],
   "source": [
    "\n",
    "df.info()\n"
   ]
  },
  {
   "cell_type": "markdown",
   "id": "c3ddf435",
   "metadata": {},
   "source": [
    "## Распределение событий"
   ]
  },
  {
   "cell_type": "code",
   "execution_count": null,
   "id": "1f855339",
   "metadata": {},
   "outputs": [],
   "source": [
    "\n",
    "df['event'].value_counts()\n"
   ]
  },
  {
   "cell_type": "markdown",
   "id": "be45f4fd",
   "metadata": {},
   "source": [
    "## Уникальные пользователи и даты"
   ]
  },
  {
   "cell_type": "code",
   "execution_count": null,
   "id": "b479418d",
   "metadata": {},
   "outputs": [],
   "source": [
    "\n",
    "df['date'] = df['timestamp'].dt.date\n",
    "dau = df.groupby('date')['user_id'].nunique().reset_index(name='dau')\n",
    "dau.head()\n"
   ]
  }
 ],
 "metadata": {},
 "nbformat": 4,
 "nbformat_minor": 5
}